{
 "cells": [
  {
   "cell_type": "code",
   "execution_count": null,
   "id": "8491b7a3",
   "metadata": {},
   "outputs": [
    {
     "data": {
      "text/plain": [
       "[('long_term_memories',), ('sqlite_sequence',)]"
      ]
     },
     "execution_count": 1,
     "metadata": {},
     "output_type": "execute_result"
    }
   ],
   "source": [
    "import sqlite3\n",
    "conn=sqlite3.connect('/Users/amartyaghosh/Downloads/OpenaAI Hackathon/Files/long_term_memory_storage.db')\n",
    "cursor=conn.cursor()\n",
    "cursor.execute(\"SELECT name FROM sqlite_master WHERE type='table';\")\n",
    "cursor.fetchall()\n"
   ]
  },
  {
   "cell_type": "code",
   "execution_count": 5,
   "id": "82bbe65d",
   "metadata": {},
   "outputs": [
    {
     "data": {
      "text/plain": [
       "[(1,\n",
       "  'You are an Data Analyst you have to analyze any data you provide from user query Tell me about pandas dataframe',\n",
       "  '{\"suggestions\": [\"Include specific examples of pandas DataFrame applications.\", \"Explain how to create and manipulate DataFrames.\", \"Add common methods and operations with brief descriptions.\"], \"quality\": 8.0, \"agent\": \"Data Analyst\", \"expected_output\": \"Tell about the data that you were provided to analyze\"}',\n",
       "  '1757254077.2695591',\n",
       "  8.0),\n",
       " (2,\n",
       "  'You are an Data Analyst you have to analyze any data you provide from user query Tell me about pandas dataframe',\n",
       "  '{\"suggestions\": [\"Include more practical examples for clarity.\", \"Summarize key features in a concise list.\", \"Add common use cases for better context.\"], \"quality\": 9.0, \"agent\": \"Data Analyst\", \"expected_output\": \"Tell about the data that you were provided to analyze\"}',\n",
       "  '1757255940.5617542',\n",
       "  9.0),\n",
       " (3,\n",
       "  'You are an Data Analyst you have to analyze any data you provide from user query what did i ask before',\n",
       "  '{\"suggestions\": [\"Include more specific examples of data analysis tasks using pandas DataFrame.\", \"Simplify language for easier understanding by beginners.\", \"Add visual aids or diagrams to illustrate DataFrame structure.\"], \"quality\": 8.0, \"agent\": \"Data Analyst\", \"expected_output\": \"Tell about the data that you were provided to analyze\"}',\n",
       "  '1757260444.562725',\n",
       "  8.0),\n",
       " (4,\n",
       "  'You are an Data Analyst you have to analyze any data you provide from user query Tell me about data frame',\n",
       "  '{\"suggestions\": [\"Include examples of creating and manipulating DataFrames to enhance understanding.\", \"Explain common pitfalls or mistakes when working with DataFrames.\", \"Provide links or references to pandas documentation for further learning.\"], \"quality\": 8.0, \"agent\": \"Data Analyst\", \"expected_output\": \"Tell about the data that you were provided to analyze\"}',\n",
       "  '1757270559.367033',\n",
       "  8.0),\n",
       " (5,\n",
       "  'Now recall what the user said earlier.',\n",
       "  '{\"suggestions\": [\"Ensure to copy the user\\'s exact earlier spoken or written info without paraphrasing.\", \"Incorporate the exact phrasing from the user\\'s earlier input.\", \"Verify that the output is a verbatim repetition of the user\\'s provided data.\"], \"quality\": 9.0, \"agent\": \"Data Analyst\", \"expected_output\": \"Repeat back the info user provided earlier.\"}',\n",
       "  '1757270569.147533',\n",
       "  9.0),\n",
       " (6,\n",
       "  'You are an Data Analyst you have to analyze any data you provide from user query Tell me about data frame',\n",
       "  '{\"suggestions\": [\"Include specific examples of data analysis tasks that can be performed with a DataFrame.\", \"Mention common methods and attributes of DataFrame explicitly.\", \"Simplify technical language for clarity.\"], \"quality\": 8.0, \"agent\": \"Data Analyst\", \"expected_output\": \"Tell about the data that you were provided to analyze\"}',\n",
       "  '1757270670.215051',\n",
       "  8.0),\n",
       " (7,\n",
       "  'Now recall what the user said earlier.',\n",
       "  '{\"suggestions\": [\"Ensure the output strictly matches the user\\'s request without additional information.\", \"Keep the response concise and to the point.\", \"Avoid elaborate explanations unless explicitly asked.\"], \"quality\": 2.0, \"agent\": \"Data Analyst\", \"expected_output\": \"just add exactly what user has asked nothing else\"}',\n",
       "  '1757270679.2194738',\n",
       "  2.0),\n",
       " (8,\n",
       "  'You are an Data Analyst you have to analyze any data you provided from user query that is --> Tell me about data frame',\n",
       "  '{\"suggestions\": [\"Summarize the explanation more concisely to focus on key features of DataFrame.\", \"Include examples of typical DataFrame operations to enhance clarity.\", \"Align the output more closely with the user\\'s query by explicitly linking the explanation to the DataFrame provided for analysis.\"], \"quality\": 7.0, \"agent\": \"Data Analyst\", \"expected_output\": \"Tell about the data that you were provided to analyze\"}',\n",
       "  '1757270751.498029',\n",
       "  7.0),\n",
       " (9,\n",
       "  'Now recall what the user said earlier.',\n",
       "  '{\"suggestions\": [\"Ensure the actual output matches the expected output exactly, focusing only on the user\\'s query.\", \"Clarify the instruction to extract exactly what the user asked for, without additional interpretation.\", \"Improve understanding of task requirements to deliver precise responses.\"], \"quality\": 4.0, \"agent\": \"Data Analyst\", \"expected_output\": \"just add exact query what user has asked, add nothing else than this\"}',\n",
       "  '1757270756.3783948',\n",
       "  4.0),\n",
       " (10,\n",
       "  'You are an Data Analyst you have to analyze any data you provided from user query that is --> Tell me about data frame',\n",
       "  '{\"suggestions\": [\"Make the explanation more concise for quicker understanding\", \"Include examples of data inside a DataFrame for clarity\", \"Summarize the key features in bullet points for easier reading\"], \"quality\": 8.0, \"agent\": \"Data Analyst\", \"expected_output\": \"Tell about the data that you were provided to analyze\"}',\n",
       "  '1757271005.3459089',\n",
       "  8.0),\n",
       " (11,\n",
       "  'Now recall what the user said earlier.',\n",
       "  '{\"suggestions\": [\"Include only the exact query asked by the user without additional information.\", \"Ensure the response strictly matches the user\\'s instructions for clarity.\", \"Double-check that the output contains no extraneous content.\"], \"quality\": 2.0, \"agent\": \"Data Analyst\", \"expected_output\": \"just add exact query what user has asked, add nothing else than this\"}',\n",
       "  '1757271012.087005',\n",
       "  2.0),\n",
       " (12,\n",
       "  'You are an Data Analyst you have to analyze any data you provided from user query that is --> I work with pandas dataframe daily',\n",
       "  '{\"suggestions\": [\"Include more specific details about the data types and structure of the DataFrame.\", \"Provide examples of common DataFrame operations relevant to user queries.\", \"Summarize the key functionalities of pandas DataFrame for quick understanding.\"], \"quality\": 9.0, \"agent\": \"Data Analyst\", \"expected_output\": \"Tell about the data that you were provided to analyze\"}',\n",
       "  '1757271271.166707',\n",
       "  9.0),\n",
       " (13,\n",
       "  'Now recall what the user said earlier.',\n",
       "  '{\"suggestions\": [\"Ensure to only include the user\\'s exact query as the output.\", \"Avoid adding any additional explanations or context.\", \"Summarize the user\\'s request clearly and concisely.\"], \"quality\": 1.0, \"agent\": \"Data Analyst\", \"expected_output\": \"just add exact query what user has asked, add nothing else than this\"}',\n",
       "  '1757271277.184031',\n",
       "  1.0),\n",
       " (14,\n",
       "  'You are an Data Analyst you have to analyze any data you provided from user query that is --> I work with pandas dataframe daily',\n",
       "  '{\"suggestions\": [\"Provide a more concise and direct summary of the data that was provided for analysis.\", \"Include specific details or samples of the data to enhance understanding.\", \"Avoid overly technical jargon unless necessary, to improve clarity.\"], \"quality\": 8.0, \"agent\": \"Data Analyst\", \"expected_output\": \"Tell about the data that you were provided to analyze\"}',\n",
       "  '1757271294.688123',\n",
       "  8.0),\n",
       " (15,\n",
       "  'Now recall what the user said earlier.',\n",
       "  '{\"suggestions\": [\"Ensure the actual output strictly contains only the user\\'s exact query with no additional text.\", \"Verify the output format matches the expected output format.\", \"Pay close attention to the task instructions to improve accuracy.\"], \"quality\": 2.0, \"agent\": \"Data Analyst\", \"expected_output\": \"just add exact query what user has asked, add nothing else than this\"}',\n",
       "  '1757271301.668244',\n",
       "  2.0),\n",
       " (16,\n",
       "  'You are an Data Analyst you have to analyze any data you provided from user query that is --> I work with pandas dataframe daily',\n",
       "  '{\"suggestions\": [\"Include specific examples of data analysis tasks performed on the DataFrame.\", \"Summarize the key features of the DataFrame more concisely.\", \"Clarify the purpose of the analysis to better tailor the explanation.\"], \"quality\": 8.0, \"agent\": \"Data Analyst\", \"expected_output\": \"Tell about the data that you were provided to analyze\"}',\n",
       "  '1757271479.079922',\n",
       "  8.0),\n",
       " (17,\n",
       "  'You are an Data Analyst you have to analyze any data you provided from user query that is --> I work with pandas dataframe daily',\n",
       "  '{\"suggestions\": [\"Make the explanation more concise and focused on key aspects of pandas DataFrame.\", \"Include examples of typical data and operations performed.\"], \"quality\": 8.0, \"agent\": \"Data Analyst\", \"expected_output\": \"Tell about the data that you were provided to analyze\"}',\n",
       "  '1757271569.384367',\n",
       "  8.0),\n",
       " (18,\n",
       "  'You are an Data Analyst you have to analyze any data you provided from user query that is --> I work with pandas dataframe daily',\n",
       "  '{\"suggestions\": [\"Include a more concise summary focusing on key aspects of pandas DataFrame.\", \"Add examples of typical data or use cases for clarity.\", \"Highlight any limitations or important considerations when working with pandas DataFrame.\"], \"quality\": 8.0, \"agent\": \"Data Analyst\", \"expected_output\": \"Tell about the data that you were provided to analyze\"}',\n",
       "  '1757271594.81791',\n",
       "  8.0),\n",
       " (19,\n",
       "  'Now recall what the user said earlier.',\n",
       "  '{\"suggestions\": [\"Ensure the output is an exact repeat of the user\\'s statement without additional commentary.\", \"Use quotation marks to denote the repeated text for clarity.\", \"Maintain the full content including all details and formatting.\"], \"quality\": 2.0, \"agent\": \"Data Analyst\", \"expected_output\": \"Repeat exactly what the user said earlier.\"}',\n",
       "  '1757271601.431104',\n",
       "  2.0),\n",
       " (20,\n",
       "  'You are an Data Analyst you have to analyze any data you provided from user query that is --> I work with pandas dataframe daily',\n",
       "  '{\"suggestions\": [\"Make the explanation more concise and focused on key attributes of the data provided.\", \"Include specific details about the actual dataset, such as the number of rows, columns, and data types.\", \"Use simpler language to improve clarity for users with less technical background.\"], \"quality\": 8.0, \"agent\": \"Data Analyst\", \"expected_output\": \"Tell about the data that you were provided to analyze\"}',\n",
       "  '1757271666.633003',\n",
       "  8.0),\n",
       " (21,\n",
       "  'Now recall what the user said earlier.',\n",
       "  '{\"suggestions\": [\"Ensure to repeat the user\\'s exact original input without additional interpretation or paraphrasing.\", \"Include the original user statement verbatim to meet the requirement of \\'Repeat exactly what the user said.\\'\", \"Avoid adding any supplementary information that was not part of the user\\'s original statement.\"], \"quality\": 3.0, \"agent\": \"Data Analyst\", \"expected_output\": \"Repeat exactly what the user said earlier.\"}',\n",
       "  '1757271672.759019',\n",
       "  3.0)]"
      ]
     },
     "execution_count": 5,
     "metadata": {},
     "output_type": "execute_result"
    }
   ],
   "source": [
    "cursor.execute('SELECT * FROM long_term_memories;')\n",
    "cursor.fetchall()"
   ]
  },
  {
   "cell_type": "code",
   "execution_count": 6,
   "id": "2c53a9fd",
   "metadata": {},
   "outputs": [
    {
     "data": {
      "text/plain": [
       "[('migrations',),\n",
       " ('embeddings_queue',),\n",
       " ('embeddings_queue_config',),\n",
       " ('collection_metadata',),\n",
       " ('segment_metadata',),\n",
       " ('tenants',),\n",
       " ('databases',),\n",
       " ('collections',),\n",
       " ('maintenance_log',),\n",
       " ('segments',),\n",
       " ('embeddings',),\n",
       " ('embedding_metadata',),\n",
       " ('max_seq_id',),\n",
       " ('embedding_fulltext_search',),\n",
       " ('embedding_fulltext_search_data',),\n",
       " ('embedding_fulltext_search_idx',),\n",
       " ('embedding_fulltext_search_content',),\n",
       " ('embedding_fulltext_search_docsize',),\n",
       " ('embedding_fulltext_search_config',)]"
      ]
     },
     "execution_count": 6,
     "metadata": {},
     "output_type": "execute_result"
    }
   ],
   "source": [
    "\n",
    "conn=sqlite3.connect('/Users/amartyaghosh/Downloads/OpenaAI Hackathon/Files/entities/Data_Analyst/chroma.sqlite3')\n",
    "cursor=conn.cursor()\n",
    "cursor.execute(\"SELECT name FROM sqlite_master WHERE type='table';\")\n",
    "cursor.fetchall()"
   ]
  },
  {
   "cell_type": "code",
   "execution_count": 7,
   "id": "fc632046",
   "metadata": {},
   "outputs": [
    {
     "data": {
      "text/plain": [
       "<sqlite3.Cursor at 0x1066af5c0>"
      ]
     },
     "execution_count": 7,
     "metadata": {},
     "output_type": "execute_result"
    }
   ],
   "source": [
    "cursor.execute('SELECT * FROM embedding_fulltext_search_content;')"
   ]
  },
  {
   "cell_type": "code",
   "execution_count": 8,
   "id": "5714bc03",
   "metadata": {},
   "outputs": [
    {
     "data": {
      "text/plain": [
       "[(1,\n",
       "  'pandas DataFrame(Data Structure): A two-dimensional, size-mutable, and potentially heterogeneous tabular data structure in pandas.'),\n",
       " (2,\n",
       "  'pandas DataFrame(Data Structure): A two-dimensional, size-mutable, labeled data structure with columns that can contain different data types.'),\n",
       " (3,\n",
       "  'pandas DataFrame(Data Structure): A two-dimensional, size-mutable tabular data structure with labeled axes used for data manipulation and analysis in Python.'),\n",
       " (4,\n",
       "  'pandas DataFrame(Data Structure): A two-dimensional, size-mutable, tabular data structure with labeled axes.'),\n",
       " (5,\n",
       "  'Python(Programming Language): The programming language in which pandas DataFrame is used.'),\n",
       " (6,\n",
       "  'Data Analysis(Task/Functionality): The process of inspecting, cleansing, transforming, and modeling data.'),\n",
       " (7,\n",
       "  'DataFrame(Data Structure): a fundamental data structure in the pandas library designed for efficient data manipulation and analysis within Python'),\n",
       " (8,\n",
       "  'pandas library(Library): a Python library used for data analysis and manipulation'),\n",
       " (9,\n",
       "  'DataFrame(Data Structure): A central data structure in pandas for data manipulation and analysis.'),\n",
       " (10,\n",
       "  'DataFrame(Data Structure): A central data structure in pandas for data manipulation and analysis.'),\n",
       " (11,\n",
       "  'DataFrame(Data Structure): A central data structure in the pandas library for data manipulation and analysis.'),\n",
       " (12,\n",
       "  'pandas DataFrame(Data Structure): A fundamental data structure in the pandas library designed for efficient data manipulation and analysis within Python.'),\n",
       " (13,\n",
       "  'DataFrame(Data Structure): A fundamental data structure in pandas for data manipulation and analysis.'),\n",
       " (14,\n",
       "  'DataFrame(Data Structure): A two-dimensional, size-mutable, labeled data structure with columns of potentially different types, used in pandas for data manipulation and analysis.'),\n",
       " (15,\n",
       "  'pandas DataFrame(Data Structure): A core data structure within the pandas library used for data analysis and manipulation.'),\n",
       " (16,\n",
       "  'Python(Programming Language): A high-level programming language often used for data analysis, scripting, and automation.'),\n",
       " (17,\n",
       "  'Data analysis(Process): The process of inspecting, cleaning, and modeling data to discover useful information.'),\n",
       " (18,\n",
       "  'Data sources(Concept): Various origins where data can be obtained from, such as dictionaries, lists, CSV files, etc.'),\n",
       " (19,\n",
       "  'pandas DataFrame(Data Structure): A two-dimensional, size-mutable, labeled table used in pandas for data analysis.'),\n",
       " (20,\n",
       "  'pandas DataFrame(Data Structure): A two-dimensional, size-mutable, labeled table similar to a spreadsheet or database table, used in data analysis and manipulation.'),\n",
       " (21,\n",
       "  'pandas DataFrame(Data Structure): A two-dimensional, size-mutable, labeled data structure used for data analysis and manipulation in pandas.'),\n",
       " (22,\n",
       "  'pandas DataFrame(Data Structure): A fundamental data structure in the pandas library designed for efficient data manipulation and analysis within Python.')]"
      ]
     },
     "execution_count": 8,
     "metadata": {},
     "output_type": "execute_result"
    }
   ],
   "source": [
    "cursor.fetchall()"
   ]
  },
  {
   "cell_type": "code",
   "execution_count": null,
   "id": "82b8d711",
   "metadata": {},
   "outputs": [],
   "source": []
  }
 ],
 "metadata": {
  "kernelspec": {
   "display_name": "Projects",
   "language": "python",
   "name": "python3"
  },
  "language_info": {
   "codemirror_mode": {
    "name": "ipython",
    "version": 3
   },
   "file_extension": ".py",
   "mimetype": "text/x-python",
   "name": "python",
   "nbconvert_exporter": "python",
   "pygments_lexer": "ipython3",
   "version": "3.12.5"
  }
 },
 "nbformat": 4,
 "nbformat_minor": 5
}
