{
 "cells": [
  {
   "cell_type": "code",
   "execution_count": 54,
   "id": "7571d02d",
   "metadata": {},
   "outputs": [
    {
     "data": {
      "text/plain": [
       "[('migrations',),\n",
       " ('embeddings_queue',),\n",
       " ('embeddings_queue_config',),\n",
       " ('collection_metadata',),\n",
       " ('segment_metadata',),\n",
       " ('tenants',),\n",
       " ('databases',),\n",
       " ('collections',),\n",
       " ('maintenance_log',),\n",
       " ('segments',),\n",
       " ('embeddings',),\n",
       " ('embedding_metadata',),\n",
       " ('max_seq_id',),\n",
       " ('embedding_fulltext_search',),\n",
       " ('embedding_fulltext_search_data',),\n",
       " ('embedding_fulltext_search_idx',),\n",
       " ('embedding_fulltext_search_content',),\n",
       " ('embedding_fulltext_search_docsize',),\n",
       " ('embedding_fulltext_search_config',)]"
      ]
     },
     "execution_count": 54,
     "metadata": {},
     "output_type": "execute_result"
    }
   ],
   "source": [
    "import sqlite3\n",
    "conn=sqlite3.connect('/Users/amartyaghosh/Downloads/OpenaAI Hackathon/elevanlabs/Blog_URLS/chroma.sqlite3')\n",
    "cursor=conn.cursor()\n",
    "cursor.execute(\"SELECT name FROM sqlite_master WHERE type='table';\")\n",
    "cursor.fetchall()"
   ]
  },
  {
   "cell_type": "code",
   "execution_count": 56,
   "id": "a4f8c203",
   "metadata": {},
   "outputs": [
    {
     "data": {
      "text/plain": [
       "<sqlite3.Cursor at 0x109aaa4c0>"
      ]
     },
     "execution_count": 56,
     "metadata": {},
     "output_type": "execute_result"
    }
   ],
   "source": [
    "cursor.execute(\"SELECT * FROM embedding_fulltext_search_content;\")"
   ]
  },
  {
   "cell_type": "code",
   "execution_count": 57,
   "id": "89b44d5e",
   "metadata": {},
   "outputs": [
    {
     "data": {
      "text/plain": [
       "[]"
      ]
     },
     "execution_count": 57,
     "metadata": {},
     "output_type": "execute_result"
    }
   ],
   "source": [
    "cursor.fetchall()"
   ]
  },
  {
   "cell_type": "code",
   "execution_count": null,
   "id": "097e5da0",
   "metadata": {},
   "outputs": [],
   "source": []
  },
  {
   "cell_type": "code",
   "execution_count": null,
   "id": "b7335d65",
   "metadata": {},
   "outputs": [],
   "source": []
  }
 ],
 "metadata": {
  "kernelspec": {
   "display_name": "Projects",
   "language": "python",
   "name": "python3"
  },
  "language_info": {
   "codemirror_mode": {
    "name": "ipython",
    "version": 3
   },
   "file_extension": ".py",
   "mimetype": "text/x-python",
   "name": "python",
   "nbconvert_exporter": "python",
   "pygments_lexer": "ipython3",
   "version": "3.12.5"
  }
 },
 "nbformat": 4,
 "nbformat_minor": 5
}
